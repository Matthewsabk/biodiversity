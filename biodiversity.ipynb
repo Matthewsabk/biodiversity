{
 "cells": [
  {
   "cell_type": "markdown",
   "metadata": {},
   "source": [
    "## Biodiversity of Endangered Species in National Parks"
   ]
  },
  {
   "cell_type": "markdown",
   "metadata": {},
   "source": [
    "#### Introduction:\n",
    "\n",
    "- Describe the data set and prior cleaning, including modes/averages/histograms, counts of species within categories,\n",
    "- Describe analysis and conclusions. \n",
    "- Focus on most interesting conclusion/finding"
   ]
  },
  {
   "cell_type": "markdown",
   "metadata": {},
   "source": [
    "#### Analysis:\n",
    "\n",
    "- Is species category is correlated with it's conservation status?\n",
    "- Is National park correlated with observations counts or conservation status?\n",
    "- How are conservations status and observations correlated?"
   ]
  },
  {
   "cell_type": "markdown",
   "metadata": {},
   "source": [
    "Is species category correlated with conservation status?\n",
    "- Method:\n",
    "- Analysis:\n",
    "- Conclusion:"
   ]
  },
  {
   "cell_type": "markdown",
   "metadata": {},
   "source": [
    "Is National park correlated with observations counts or conservation status?\n",
    "- Method:\n",
    "- Analysis:\n",
    "- Conclusion:"
   ]
  },
  {
   "cell_type": "markdown",
   "metadata": {},
   "source": [
    "How are conservations status and observations correlated?\n",
    "- Method:\n",
    "- Analysis:\n",
    "- Conclusion:"
   ]
  },
  {
   "cell_type": "markdown",
   "metadata": {},
   "source": [
    "#### Conclusion:\n",
    "- Reprise questions and conclusions with a few key insights/applications.\n",
    "- Raise any new questions or future work"
   ]
  },
  {
   "cell_type": "markdown",
   "metadata": {},
   "source": [
    "#### Appendix:\n",
    "- Technical Descriptions of unusual stats\n",
    "- Detailed Tables, Computer output (not necessarily human friendly)\n",
    "- Interesting or excessive figures\n",
    "- Computer code used to obtain results. "
   ]
  }
 ],
 "metadata": {
  "kernelspec": {
   "display_name": "Python 3",
   "language": "python",
   "name": "python3"
  },
  "language_info": {
   "codemirror_mode": {
    "name": "ipython",
    "version": 3
   },
   "file_extension": ".py",
   "mimetype": "text/x-python",
   "name": "python",
   "nbconvert_exporter": "python",
   "pygments_lexer": "ipython3",
   "version": "3.10.12"
  }
 },
 "nbformat": 4,
 "nbformat_minor": 4
}
