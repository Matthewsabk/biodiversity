{
 "cells": [
  {
   "cell_type": "markdown",
   "metadata": {},
   "source": [
    "## Biodiversity of Endangered Species in National Parks\n",
    "\n",
    "Data on biodiversity of endangered species in National Parks has been provided by Codecademy as part of a portfolio project prompt.\n",
    "\n",
    "The brief on the project states that the data is from the National Parks Service and covers different species and parks. It states that we will investigate to find any patterns or themes to the types of species that become endangered. During this project we are to analyze, clean up, and plot data as well as pose questions and seek to answer them in a meaningful way. "
   ]
  },
  {
   "cell_type": "markdown",
   "metadata": {},
   "source": []
  },
  {
   "cell_type": "code",
   "execution_count": null,
   "metadata": {},
   "outputs": [],
   "source": []
  }
 ],
 "metadata": {
  "kernelspec": {
   "display_name": "Python 3",
   "language": "python",
   "name": "python3"
  },
  "language_info": {
   "codemirror_mode": {
    "name": "ipython",
    "version": 3
   },
   "file_extension": ".py",
   "mimetype": "text/x-python",
   "name": "python",
   "nbconvert_exporter": "python",
   "pygments_lexer": "ipython3",
   "version": "3.7.6"
  }
 },
 "nbformat": 4,
 "nbformat_minor": 4
}
