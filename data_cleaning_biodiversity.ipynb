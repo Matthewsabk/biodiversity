{
 "cells": [
  {
   "cell_type": "markdown",
   "metadata": {},
   "source": [
    "## Data Cleaning for Biodiversity in National Parks"
   ]
  },
  {
   "cell_type": "code",
   "execution_count": 16,
   "metadata": {},
   "outputs": [],
   "source": [
    "#libraries\n",
    "import pandas as pd\n",
    "pd.set_option('display.max_rows', None)\n"
   ]
  },
  {
   "cell_type": "code",
   "execution_count": 17,
   "metadata": {},
   "outputs": [
    {
     "name": "stdout",
     "output_type": "stream",
     "text": [
      "            scientific_name                            park_name  observations\n",
      "0        Vicia benghalensis  Great Smoky Mountains National Park            68\n",
      "1            Neovison vison  Great Smoky Mountains National Park            77\n",
      "2         Prunus subcordata               Yosemite National Park           138\n",
      "3      Abutilon theophrasti                  Bryce National Park            84\n",
      "4  Githopsis specularioides  Great Smoky Mountains National Park            85\n",
      "(23296, 3)\n",
      "  category                scientific_name  \\\n",
      "0   Mammal  Clethrionomys gapperi gapperi   \n",
      "1   Mammal                      Bos bison   \n",
      "2   Mammal                     Bos taurus   \n",
      "3   Mammal                     Ovis aries   \n",
      "4   Mammal                 Cervus elaphus   \n",
      "\n",
      "                                        common_names conservation_status  \n",
      "0                           Gapper's Red-Backed Vole                 NaN  \n",
      "1                              American Bison, Bison                 NaN  \n",
      "2  Aurochs, Aurochs, Domestic Cattle (Feral), Dom...                 NaN  \n",
      "3  Domestic Sheep, Mouflon, Red Sheep, Sheep (Feral)                 NaN  \n",
      "4                                      Wapiti Or Elk                 NaN  \n",
      "(5824, 4)\n"
     ]
    }
   ],
   "source": [
    "#read cvs and look at head to get a feel for data\n",
    "observe = pd.read_csv('observations.csv')\n",
    "print(observe.head())\n",
    "print(observe.shape)\n",
    "species = pd.read_csv('species_info.csv')\n",
    "print(species.head())\n",
    "print(species.shape)"
   ]
  },
  {
   "cell_type": "markdown",
   "metadata": {},
   "source": [
    "Check for duplicates in each datafram prior to merging. Also check for duplicates in the scientific name of the species data frame separate from the conservation status and common names."
   ]
  },
  {
   "cell_type": "code",
   "execution_count": 18,
   "metadata": {},
   "outputs": [
    {
     "name": "stdout",
     "output_type": "stream",
     "text": [
      "scientific_name  park_name  observations\n",
      "False            False      False           23281\n",
      "dtype: int64\n",
      "False    22164\n",
      "True      1117\n",
      "dtype: int64\n",
      "False    22164\n",
      "dtype: int64\n"
     ]
    }
   ],
   "source": [
    "#check for duplicates in observations (suppressed)\n",
    "#print(observe[observe.duplicated(keep=False)==True].value_counts())\n",
    "#remove those duplicates\n",
    "observe.drop_duplicates(inplace=True)\n",
    "#check for Nan Values\n",
    "print(observe.isna().value_counts())\n",
    "#remove 'National Park' from park_name column\n",
    "observe['park_name']=observe['park_name'].replace(' National Park', '', regex=True)\n",
    "#check for duplicated items with different observations counts\n",
    "print(observe.duplicated(subset=['scientific_name', 'park_name']).value_counts())\n",
    "observe = observe.groupby(['scientific_name', 'park_name'], as_index=False).sum()\n",
    "#Agrostis capillaris \n",
    "print(observe.duplicated(subset=['scientific_name', 'park_name']).value_counts())\n"
   ]
  },
  {
   "cell_type": "markdown",
   "metadata": {},
   "source": [
    "Investigate data issues in species csv. Look for and correct duplicates, missing values and conflicting data. "
   ]
  },
  {
   "cell_type": "code",
   "execution_count": 19,
   "metadata": {},
   "outputs": [
    {
     "name": "stdout",
     "output_type": "stream",
     "text": [
      "Fully duplicated values in species\n",
      "False    5824\n",
      "dtype: int64\n",
      "Species items that differ only by conservation status\n",
      "False    5822\n",
      "True        2\n",
      "dtype: int64\n",
      "     category      scientific_name     common_names conservation_status\n",
      "560      Fish  Oncorhynchus mykiss    Rainbow Trout                 NaN\n",
      "3020   Mammal          Canis lupus  Gray Wolf, Wolf         In Recovery\n",
      "3283     Fish  Oncorhynchus mykiss    Rainbow Trout          Threatened\n",
      "4448   Mammal          Canis lupus  Gray Wolf, Wolf          Endangered\n",
      "False    5822\n",
      "dtype: int64\n",
      "Species items that differ only by common names\n",
      "False    5541\n",
      "True      281\n",
      "dtype: int64\n",
      "    scientific_name category conservation_status                common_names\n",
      "804     Canis lupus   Mammal          Endangered  Gray Wolf, Gray Wolf, Wolf\n",
      "    scientific_name category conservation_status     common_names\n",
      "804     Canis lupus   Mammal          Endangered  Gray Wolf, Wolf\n"
     ]
    }
   ],
   "source": [
    "#check for duplicates in species\n",
    "print('Fully duplicated values in species')\n",
    "print(species.duplicated().value_counts())\n",
    "#check for species duplicates that vary only by conservation status\n",
    "print(\"Species items that differ only by conservation status\")\n",
    "print(species.duplicated(subset=['scientific_name','category', 'common_names']).value_counts())\n",
    "print(species[species.duplicated(subset=['scientific_name','category', 'common_names'], keep = False)==True])\n",
    "#Remove row 560, as Oncorhynchus mykiss are a threatened species, and 3020, as Canis lupus legal status currently list them as Endangered. \n",
    "species.drop_duplicates(subset=['scientific_name','category', 'common_names'], keep = 'last', inplace= True)\n",
    "print(species.duplicated(subset=['scientific_name','category', 'common_names']).value_counts())\n",
    "#fill species['conservation_status'] values that are missing with 'No Status'\n",
    "species.fillna(value={'conservation_status': 'Least Concern'}, inplace=True)\n",
    "#check for species duplicates that vary only by common name\n",
    "print(\"Species items that differ only by common names\")\n",
    "print(species.duplicated(subset=['scientific_name','category', 'conservation_status']).value_counts())\n",
    "#group then aggregate\n",
    "species= species.groupby(['scientific_name','category', 'conservation_status']).agg({'common_names': lambda x: ', '.join(tuple(x.tolist()))})\n",
    "species.reset_index(inplace=True)\n",
    "#print(\"check aggregated values with spot check of common names for canis lupis (at least on only had gray wolf.)\")\n",
    "print(species[species['scientific_name']=='Canis lupus'])\n",
    "#It looks like there are duplicate items in the values of species_agg['common_names'] now, so I'll need to remove those. \n",
    "species['common_names']= species['common_names'].apply(lambda x: ', '.join(set(x.split(', '))))\n",
    "print(species[species['scientific_name']=='Canis lupus'])"
   ]
  },
  {
   "cell_type": "markdown",
   "metadata": {},
   "source": [
    "Since the conservation status values are do not seem to include a 'least concern' category, it's likely that some of the the NaN values in this list are species that do not have a conservation status at this time. I've replaced those with the status 'Least Concern'.\n",
    "\n",
    "There are also 281 items that are completely duplicated apart from the common name. These are likely not unique observations, so we're going to drop rows that are duplicates apart from the common names from our dataset. "
   ]
  },
  {
   "cell_type": "markdown",
   "metadata": {},
   "source": [
    "The two clean csv's can now be joined on scientific name, left, to keep all observation data and match it to the species information for each."
   ]
  },
  {
   "cell_type": "code",
   "execution_count": 20,
   "metadata": {},
   "outputs": [],
   "source": [
    "#merge the two csv, outer, keeping all rows\n",
    "biodiverse = pd.merge(observe, species, how='left', on='scientific_name')"
   ]
  },
  {
   "cell_type": "code",
   "execution_count": 21,
   "metadata": {},
   "outputs": [
    {
     "name": "stdout",
     "output_type": "stream",
     "text": [
      "(22164, 6)\n",
      "scientific_name        0\n",
      "park_name              0\n",
      "observations           0\n",
      "category               0\n",
      "conservation_status    0\n",
      "common_names           0\n",
      "dtype: int64\n",
      "scientific_name        object\n",
      "park_name              object\n",
      "observations            int64\n",
      "category               object\n",
      "conservation_status    object\n",
      "common_names           object\n",
      "dtype: object\n",
      "scientific_name        5541\n",
      "park_name                 4\n",
      "observations            460\n",
      "category                  7\n",
      "conservation_status       5\n",
      "common_names           5236\n",
      "dtype: int64\n",
      "  scientific_name              park_name  observations        category  \\\n",
      "0   Abies bifolia                  Bryce           109  Vascular Plant   \n",
      "1   Abies bifolia  Great Smoky Mountains            72  Vascular Plant   \n",
      "2   Abies bifolia            Yellowstone           215  Vascular Plant   \n",
      "3   Abies bifolia               Yosemite           136  Vascular Plant   \n",
      "4  Abies concolor                  Bryce            83  Vascular Plant   \n",
      "\n",
      "  conservation_status                                       common_names  \n",
      "0       Least Concern                          Rocky Mountain Alpine Fir  \n",
      "1       Least Concern                          Rocky Mountain Alpine Fir  \n",
      "2       Least Concern                          Rocky Mountain Alpine Fir  \n",
      "3       Least Concern                          Rocky Mountain Alpine Fir  \n",
      "4       Least Concern  Balsam Fir, Silver Fir, Concolor Fir, White Ba...  \n"
     ]
    }
   ],
   "source": [
    "#check data types and possible issues\n",
    "print(biodiverse.shape)\n",
    "print(biodiverse.isna().sum())\n",
    "print(biodiverse.dtypes)\n",
    "print(biodiverse.nunique())\n",
    "print(biodiverse.head())"
   ]
  },
  {
   "cell_type": "markdown",
   "metadata": {},
   "source": [
    "We can now see that we're looking at data from four National Parks where they've observed 5541 unique species. The data has been cleaned and tidied, so now we can save it to a new csv, 'biodiversity_data.csv'"
   ]
  },
  {
   "cell_type": "code",
   "execution_count": 22,
   "metadata": {},
   "outputs": [],
   "source": [
    "biodiverse.to_csv('biodiversity_data.csv', index=False)"
   ]
  }
 ],
 "metadata": {
  "kernelspec": {
   "display_name": "Python 3",
   "language": "python",
   "name": "python3"
  },
  "language_info": {
   "codemirror_mode": {
    "name": "ipython",
    "version": 3
   },
   "file_extension": ".py",
   "mimetype": "text/x-python",
   "name": "python",
   "nbconvert_exporter": "python",
   "pygments_lexer": "ipython3",
   "version": "3.10.12"
  }
 },
 "nbformat": 4,
 "nbformat_minor": 2
}
