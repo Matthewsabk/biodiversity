{
 "cells": [
  {
   "cell_type": "markdown",
   "metadata": {},
   "source": [
    "## Data Cleaning for Biodiversity in National Parks"
   ]
  },
  {
   "cell_type": "code",
   "execution_count": 267,
   "metadata": {},
   "outputs": [],
   "source": [
    "#libraries\n",
    "import pandas as pd\n",
    "pd.set_option('display.max_rows', None)"
   ]
  },
  {
   "cell_type": "code",
   "execution_count": 268,
   "metadata": {},
   "outputs": [
    {
     "name": "stdout",
     "output_type": "stream",
     "text": [
      "            scientific_name                            park_name  observations\n",
      "0        Vicia benghalensis  Great Smoky Mountains National Park            68\n",
      "1            Neovison vison  Great Smoky Mountains National Park            77\n",
      "2         Prunus subcordata               Yosemite National Park           138\n",
      "3      Abutilon theophrasti                  Bryce National Park            84\n",
      "4  Githopsis specularioides  Great Smoky Mountains National Park            85\n",
      "(23296, 3)\n",
      "  category                scientific_name  \\\n",
      "0   Mammal  Clethrionomys gapperi gapperi   \n",
      "1   Mammal                      Bos bison   \n",
      "2   Mammal                     Bos taurus   \n",
      "3   Mammal                     Ovis aries   \n",
      "4   Mammal                 Cervus elaphus   \n",
      "\n",
      "                                        common_names conservation_status  \n",
      "0                           Gapper's Red-Backed Vole                 NaN  \n",
      "1                              American Bison, Bison                 NaN  \n",
      "2  Aurochs, Aurochs, Domestic Cattle (Feral), Dom...                 NaN  \n",
      "3  Domestic Sheep, Mouflon, Red Sheep, Sheep (Feral)                 NaN  \n",
      "4                                      Wapiti Or Elk                 NaN  \n",
      "(5824, 4)\n"
     ]
    }
   ],
   "source": [
    "#read cvs and look at head to get a feel for data\n",
    "observe = pd.read_csv('observations.csv')\n",
    "print(observe.head())\n",
    "print(observe.shape)\n",
    "species = pd.read_csv('species_info.csv')\n",
    "print(species.head())\n",
    "print(species.shape)"
   ]
  },
  {
   "cell_type": "markdown",
   "metadata": {},
   "source": [
    "The csv's appear to be two separate csv's, one containing data on all of the species observed with a count of observations, park where it was observed and scientific name, The other with the scientific name, common names, and conservation status. These should be joined on scientific name. "
   ]
  },
  {
   "cell_type": "code",
   "execution_count": 269,
   "metadata": {},
   "outputs": [
    {
     "name": "stdout",
     "output_type": "stream",
     "text": [
      "      scientific_name                            park_name  observations  \\\n",
      "0  Vicia benghalensis  Great Smoky Mountains National Park            68   \n",
      "1  Vicia benghalensis               Yosemite National Park           148   \n",
      "2  Vicia benghalensis            Yellowstone National Park           247   \n",
      "3  Vicia benghalensis                  Bryce National Park           104   \n",
      "4      Neovison vison  Great Smoky Mountains National Park            77   \n",
      "\n",
      "         category                        common_names conservation_status  \n",
      "0  Vascular Plant  Purple Vetch, Reddish Tufted Vetch                 NaN  \n",
      "1  Vascular Plant  Purple Vetch, Reddish Tufted Vetch                 NaN  \n",
      "2  Vascular Plant  Purple Vetch, Reddish Tufted Vetch                 NaN  \n",
      "3  Vascular Plant  Purple Vetch, Reddish Tufted Vetch                 NaN  \n",
      "4          Mammal                       American Mink                 NaN  \n"
     ]
    }
   ],
   "source": [
    "#merge the two csv, outer, keeping all rows\n",
    "biodiverse = pd.merge(observe, species, how='outer', on='scientific_name')\n",
    "print(biodiverse.head())"
   ]
  },
  {
   "cell_type": "code",
   "execution_count": 270,
   "metadata": {},
   "outputs": [
    {
     "name": "stdout",
     "output_type": "stream",
     "text": [
      "scientific_name            0\n",
      "park_name                  0\n",
      "observations               0\n",
      "category                   0\n",
      "common_names               0\n",
      "conservation_status    24721\n",
      "dtype: int64\n"
     ]
    }
   ],
   "source": [
    "#drop duplicates\n",
    "biodiverse.drop_duplicates(inplace=True)\n",
    "#check for missing values\n",
    "print(biodiverse.isna().sum())\n"
   ]
  },
  {
   "cell_type": "markdown",
   "metadata": {},
   "source": [
    "There are a large number of missing values in the conservation status column, why is that?"
   ]
  },
  {
   "cell_type": "code",
   "execution_count": 271,
   "metadata": {},
   "outputs": [
    {
     "name": "stdout",
     "output_type": "stream",
     "text": [
      "[nan 'Species of Concern' 'Threatened' 'Endangered' 'In Recovery']\n",
      "Vascular Plant       19350\n",
      "Bird                  2013\n",
      "Nonvascular Plant     1312\n",
      "Mammal                 966\n",
      "Fish                   476\n",
      "Reptile                304\n",
      "Amphibian              300\n",
      "Name: category, dtype: int64\n",
      "biodiverse dataframe shape\n",
      "(25601, 6)\n",
      "biodiverse duplicates dataframe shape\n",
      "(2300, 6)\n"
     ]
    }
   ],
   "source": [
    "#check what values exist in conservation status\n",
    "print(biodiverse.conservation_status.unique())\n",
    "#check what if there are any correlations with a particular scientific category\n",
    "print(biodiverse['category'][biodiverse['conservation_status'].isna()].value_counts())\n",
    "\n",
    "#check if there are any columns that are duplicated apart from common names\n",
    "print('biodiverse dataframe shape')\n",
    "print(biodiverse.shape)\n",
    "print('biodiverse duplicates dataframe shape')\n",
    "print(biodiverse[biodiverse.duplicated(subset=['scientific_name', 'park_name', 'observations', 'category', 'conservation_status'], keep = 'first')==True].shape)\n",
    "#There are a high number of values that are duplicated apart from the common name. "
   ]
  },
  {
   "cell_type": "markdown",
   "metadata": {},
   "source": [
    "Since the conservation status categories are do not seem to include a 'least concern' category, it's likely that some of the the NaN values in this list are species that do not have a conservation status at this time. For that reason, for now we'll replace those with the status label 'No Status'. Many of the items without a listing are vascular plants, these are less likely to be tracked on the conservation status list as well. \n",
    "\n",
    "There are also 2300 items that are completely duplicated apart from the common name. These are likely not unique observations, so we're going to drop rows that are duplicates apart from the common names from our dataset."
   ]
  },
  {
   "cell_type": "code",
   "execution_count": 272,
   "metadata": {},
   "outputs": [
    {
     "name": "stdout",
     "output_type": "stream",
     "text": [
      "No Status             24721\n",
      "Species of Concern      732\n",
      "Endangered               80\n",
      "Threatened               44\n",
      "In Recovery              24\n",
      "Name: conservation_status, dtype: int64\n"
     ]
    }
   ],
   "source": [
    "#fill nan values for biodiverse.conservation_status with 'No Status'\n",
    "biodiverse.fillna(value={'conservation_status': 'No Status'}, inplace=True)\n",
    "print(biodiverse.conservation_status.value_counts())"
   ]
  },
  {
   "cell_type": "code",
   "execution_count": 273,
   "metadata": {},
   "outputs": [
    {
     "name": "stdout",
     "output_type": "stream",
     "text": [
      "(23301, 6)\n"
     ]
    }
   ],
   "source": [
    "#remove the rows that are duplicates apart from common name\n",
    "biodiverse.drop_duplicates(subset=['scientific_name', 'park_name', 'observations', 'category', 'conservation_status'], inplace = True)\n",
    "print(biodiverse.shape)"
   ]
  },
  {
   "cell_type": "code",
   "execution_count": 274,
   "metadata": {},
   "outputs": [
    {
     "name": "stdout",
     "output_type": "stream",
     "text": [
      "scientific_name        object\n",
      "park_name              object\n",
      "observations            int64\n",
      "category               object\n",
      "common_names           object\n",
      "conservation_status    object\n",
      "dtype: object\n",
      "scientific_name        5541\n",
      "park_name                 4\n",
      "observations            304\n",
      "category                  7\n",
      "common_names           5230\n",
      "conservation_status       5\n",
      "dtype: int64\n",
      "(23301, 6)\n",
      "                                     scientific_name  observations  category  \\\n",
      "park_name                                                                      \n",
      "Bryce National Park                             5541           142         7   \n",
      "Great Smoky Mountains National Park             5541           129         7   \n",
      "Yellowstone National Park                       5541           149         7   \n",
      "Yosemite National Park                          5541           151         7   \n",
      "\n",
      "                                     common_names  conservation_status  \n",
      "park_name                                                               \n",
      "Bryce National Park                          5230                    5  \n",
      "Great Smoky Mountains National Park          5230                    5  \n",
      "Yellowstone National Park                    5230                    5  \n",
      "Yosemite National Park                       5230                    5  \n"
     ]
    }
   ],
   "source": [
    "#check data types and possible issues\n",
    "print(biodiverse.dtypes)\n",
    "print(biodiverse.nunique())\n",
    "print(biodiverse.shape)\n",
    "print(biodiverse.groupby(['park_name']).nunique())"
   ]
  },
  {
   "cell_type": "code",
   "execution_count": 275,
   "metadata": {},
   "outputs": [
    {
     "name": "stdout",
     "output_type": "stream",
     "text": [
      "                       scientific_name  observations  category  common_names  \\\n",
      "park_name                                                                      \n",
      "Bryce                             5541           142         7          5230   \n",
      "Great Smoky Mountains             5541           129         7          5230   \n",
      "Yellowstone                       5541           149         7          5230   \n",
      "Yosemite                          5541           151         7          5230   \n",
      "\n",
      "                       conservation_status  \n",
      "park_name                                   \n",
      "Bryce                                    5  \n",
      "Great Smoky Mountains                    5  \n",
      "Yellowstone                              5  \n",
      "Yosemite                                 5  \n"
     ]
    }
   ],
   "source": [
    "#remove 'National Park' from park_name column\n",
    "biodiverse['park_name']=biodiverse['park_name'].replace(' National Park', '', regex=True)\n",
    "print(biodiverse.groupby(['park_name']).nunique())"
   ]
  },
  {
   "cell_type": "markdown",
   "metadata": {},
   "source": [
    "We can now see that we're looking at data from four National Parks where they've observed 5541 unique species. The data has been cleaned and tidied, so now we can save it to a new csv, 'biodiversity_data.csv'"
   ]
  },
  {
   "cell_type": "code",
   "execution_count": 276,
   "metadata": {},
   "outputs": [],
   "source": [
    "biodiverse.to_csv('biodiversity_data.csv')"
   ]
  }
 ],
 "metadata": {
  "kernelspec": {
   "display_name": "Python 3",
   "language": "python",
   "name": "python3"
  },
  "language_info": {
   "codemirror_mode": {
    "name": "ipython",
    "version": 3
   },
   "file_extension": ".py",
   "mimetype": "text/x-python",
   "name": "python",
   "nbconvert_exporter": "python",
   "pygments_lexer": "ipython3",
   "version": "3.10.12"
  }
 },
 "nbformat": 4,
 "nbformat_minor": 2
}
